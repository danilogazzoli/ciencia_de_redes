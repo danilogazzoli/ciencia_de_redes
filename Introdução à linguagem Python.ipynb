{
 "cells": [
  {
   "cell_type": "markdown",
   "metadata": {
    "id": "sQRhpUM1qX_1"
   },
   "source": [
    "# Introdução à linguagem Python"
   ]
  },
  {
   "cell_type": "markdown",
   "metadata": {
    "id": "SsrF43tmqX_5"
   },
   "source": [
    "## Hello World"
   ]
  },
  {
   "cell_type": "code",
   "execution_count": 1,
   "metadata": {
    "colab": {
     "base_uri": "https://localhost:8080/"
    },
    "executionInfo": {
     "elapsed": 5,
     "status": "ok",
     "timestamp": 1677799839503,
     "user": {
      "displayName": "Thiago H Silva",
      "userId": "11805822658976909605"
     },
     "user_tz": 180
    },
    "id": "pSD_38KFqX_6",
    "outputId": "a75cb69d-a7d4-46f2-bc5c-03fb320badc2"
   },
   "outputs": [
    {
     "name": "stdout",
     "output_type": "stream",
     "text": [
      "Hello world teste!\n"
     ]
    }
   ],
   "source": [
    "print(\"Hello world teste!\")"
   ]
  },
  {
   "cell_type": "markdown",
   "metadata": {
    "id": "Bh8kIe05qX_7"
   },
   "source": [
    "## Identação"
   ]
  },
  {
   "cell_type": "code",
   "execution_count": null,
   "metadata": {
    "id": "sWt6OKUaqX_8",
    "outputId": "1045d110-57a9-4e14-d54d-2b24f5c6aca3"
   },
   "outputs": [
    {
     "ename": "IndentationError",
     "evalue": "unexpected indent (<ipython-input-4-e69cb5f7b3c1>, line 2)",
     "output_type": "error",
     "traceback": [
      "\u001b[0;36m  File \u001b[0;32m\"<ipython-input-4-e69cb5f7b3c1>\"\u001b[0;36m, line \u001b[0;32m2\u001b[0m\n\u001b[0;31m    print(\"Introdução\")\u001b[0m\n\u001b[0m    ^\u001b[0m\n\u001b[0;31mIndentationError\u001b[0m\u001b[0;31m:\u001b[0m unexpected indent\n"
     ]
    }
   ],
   "source": [
    "print (\"Teste\")\n",
    "  print(\"Introdução\")"
   ]
  },
  {
   "cell_type": "markdown",
   "metadata": {
    "id": "8YjWrH27qX_8"
   },
   "source": [
    "## Comentários"
   ]
  },
  {
   "cell_type": "code",
   "execution_count": null,
   "metadata": {
    "id": "6y7dt0MyqX_8"
   },
   "outputs": [],
   "source": [
    "#Uma linha de comentário\n",
    "\n",
    "'''Um bloco\n",
    "inteiro\n",
    "de comentário'''"
   ]
  },
  {
   "cell_type": "markdown",
   "metadata": {
    "id": "yUVat3EhqX_9"
   },
   "source": [
    "## Tipos"
   ]
  },
  {
   "cell_type": "markdown",
   "metadata": {
    "id": "BynK7rYAqX_9"
   },
   "source": [
    "### Strings"
   ]
  },
  {
   "cell_type": "code",
   "execution_count": null,
   "metadata": {
    "id": "nBL5I8TvqX_-"
   },
   "outputs": [],
   "source": [
    "# Esta é uma string\n",
    "nome = \"Thiago H Silva\"\n",
    "\n",
    "# Esta também é uma string\n",
    "casa = 'Curitiba, Brasil'"
   ]
  },
  {
   "cell_type": "markdown",
   "metadata": {
    "id": "fgfdz1V7qX_-"
   },
   "source": [
    "### Números"
   ]
  },
  {
   "cell_type": "code",
   "execution_count": null,
   "metadata": {
    "id": "RsMoifq9qX_-"
   },
   "outputs": [],
   "source": [
    "# Números inteiros\n",
    "ano = 2010\n",
    "ano = int(\"2010\")\n",
    "\n",
    "# Números de ponto flutuante\n",
    "pi = 3.1415\n",
    "pi = float(\"3.1415\")"
   ]
  },
  {
   "cell_type": "markdown",
   "metadata": {
    "id": "5tJJGBpXqX__"
   },
   "source": [
    "### Listas"
   ]
  },
  {
   "cell_type": "code",
   "execution_count": null,
   "metadata": {
    "id": "cSSbSTk3qX__",
    "outputId": "1d83779b-d392-4b31-ade2-a1e1d3bf3d3f"
   },
   "outputs": [
    {
     "name": "stdout",
     "output_type": "stream",
     "text": [
      "Python\n"
     ]
    }
   ],
   "source": [
    "#Declaração de uma lista \n",
    "favoritos = []\n",
    "\n",
    "#Adicionando\n",
    "favoritos.append(42)\n",
    "\n",
    "#Extendendo\n",
    "favoritos.extend([\"Python\", True])\n",
    "\n",
    "# Equivalente a\n",
    "favoritos = [42,\"Python\",True]    \n",
    "\n",
    "print(favoritos[1])\n"
   ]
  },
  {
   "cell_type": "code",
   "execution_count": null,
   "metadata": {
    "id": "t2kom0R7qX__",
    "outputId": "a0f3ffd7-bb3e-462e-95b9-62a0151df134"
   },
   "outputs": [
    {
     "data": {
      "text/plain": [
       "5"
      ]
     },
     "execution_count": 9,
     "metadata": {},
     "output_type": "execute_result"
    }
   ],
   "source": [
    "numeros = [1,2,3,4,5]\n",
    "len(numeros)"
   ]
  },
  {
   "cell_type": "code",
   "execution_count": null,
   "metadata": {
    "id": "cbgmtU06qX__",
    "outputId": "98321c19-74fa-4da8-8417-8b6f4da77589"
   },
   "outputs": [
    {
     "data": {
      "text/plain": [
       "1"
      ]
     },
     "execution_count": 6,
     "metadata": {},
     "output_type": "execute_result"
    }
   ],
   "source": [
    "numeros[0]"
   ]
  },
  {
   "cell_type": "code",
   "execution_count": null,
   "metadata": {
    "id": "Y7c81rRMqYAA",
    "outputId": "431cd592-df8d-4448-fe2d-cb842b24f20c"
   },
   "outputs": [
    {
     "data": {
      "text/plain": [
       "[1, 2, 3]"
      ]
     },
     "execution_count": 10,
     "metadata": {},
     "output_type": "execute_result"
    }
   ],
   "source": [
    "numeros[0:3]"
   ]
  },
  {
   "cell_type": "code",
   "execution_count": null,
   "metadata": {
    "id": "hWhmSTXOqYAA",
    "outputId": "add816ca-2806-4553-9e71-485dec6d9534"
   },
   "outputs": [
    {
     "data": {
      "text/plain": [
       "[4, 5]"
      ]
     },
     "execution_count": 12,
     "metadata": {},
     "output_type": "execute_result"
    }
   ],
   "source": [
    "numeros[3:]"
   ]
  },
  {
   "cell_type": "markdown",
   "metadata": {
    "id": "2mCRpnkcqYAA"
   },
   "source": [
    "## Dicionários"
   ]
  },
  {
   "cell_type": "code",
   "execution_count": null,
   "metadata": {
    "id": "VGYTsIBPqYAA",
    "outputId": "7ded8119-dda8-47c1-99e9-2ab647eeb935"
   },
   "outputs": [
    {
     "data": {
      "text/plain": [
       "{'nome': 'Thiago Silva'}"
      ]
     },
     "execution_count": 2,
     "metadata": {},
     "output_type": "execute_result"
    }
   ],
   "source": [
    "pessoa = {}\n",
    "\n",
    "pessoa['nome'] = 'Thiago Silva'\n",
    "pessoa"
   ]
  },
  {
   "cell_type": "code",
   "execution_count": null,
   "metadata": {
    "id": "YOqtL6zEqYAA",
    "outputId": "4dcce9c6-8d43-4b41-aec0-231416e7dd4d"
   },
   "outputs": [
    {
     "data": {
      "text/plain": [
       "{'nome': 'Thiago Silva', 'medidas': [1.8, 90], 'sexo': 'masculino'}"
      ]
     },
     "execution_count": 16,
     "metadata": {},
     "output_type": "execute_result"
    }
   ],
   "source": [
    "pessoa.update({\n",
    "    'medidas':[1.80, 90],\n",
    "    'sexo': 'masculino'\n",
    "})  \n",
    "pessoa"
   ]
  },
  {
   "cell_type": "code",
   "execution_count": null,
   "metadata": {
    "id": "suSbbDCKqYAB",
    "outputId": "fe428de4-c335-4fd1-fc64-d2b0a539312a"
   },
   "outputs": [
    {
     "name": "stdout",
     "output_type": "stream",
     "text": [
      "Thiago\n",
      "dict_keys(['nome', 'sexo'])\n",
      "dict_values(['Thiago', 'Masculino'])\n",
      "dict_items([('nome', 'Thiago'), ('sexo', 'Masculino')])\n"
     ]
    }
   ],
   "source": [
    "pessoa = {'nome': 'Thiago', 'sexo':'Masculino'}\n",
    "\n",
    "print(pessoa['nome'])\n",
    "print(pessoa.keys())\n",
    "print(pessoa.values())\n",
    "print(pessoa.items())\n",
    "\n"
   ]
  },
  {
   "cell_type": "code",
   "execution_count": null,
   "metadata": {
    "id": "TAAViKjgqYAB",
    "outputId": "16a657c8-4694-4eec-fdc8-d70aba2fdb45"
   },
   "outputs": [
    {
     "name": "stdout",
     "output_type": "stream",
     "text": [
      "{'login': {'thiago': {'dependente': 0}}}\n",
      "{'thiago': {'dependente': 0}}\n",
      "{'dependente': 0}\n",
      "0\n"
     ]
    }
   ],
   "source": [
    "usuario = {}\n",
    "usuario.update({'login':{'thiago':{'dependente':0}}})\n",
    "\n",
    "print(usuario)\n",
    "print(usuario['login'])\n",
    "print(usuario['login']['thiago'])\n",
    "print(usuario['login']['thiago']['dependente'])"
   ]
  },
  {
   "cell_type": "markdown",
   "metadata": {
    "id": "-nqsQF3BqYAB"
   },
   "source": [
    "## Operadores"
   ]
  },
  {
   "cell_type": "markdown",
   "metadata": {
    "id": "QYRlfH5PqYAB"
   },
   "source": [
    "### Aritiméticos"
   ]
  },
  {
   "cell_type": "code",
   "execution_count": null,
   "metadata": {
    "id": "Sezar8CsqYAC",
    "outputId": "8ee1ea46-5c55-417d-d9ea-5108c3ffb846"
   },
   "outputs": [
    {
     "data": {
      "text/plain": [
       "10"
      ]
     },
     "execution_count": 3,
     "metadata": {},
     "output_type": "execute_result"
    }
   ],
   "source": [
    "a = 10\n",
    "a"
   ]
  },
  {
   "cell_type": "code",
   "execution_count": null,
   "metadata": {
    "id": "Zt0YUuNcqYAC",
    "outputId": "b844e2b8-8f4e-49b8-c6e3-f5741c8c6f75"
   },
   "outputs": [
    {
     "data": {
      "text/plain": [
       "11"
      ]
     },
     "execution_count": 28,
     "metadata": {},
     "output_type": "execute_result"
    }
   ],
   "source": [
    "a += 1\n",
    "a"
   ]
  },
  {
   "cell_type": "code",
   "execution_count": null,
   "metadata": {
    "id": "FTCE3myxqYAC",
    "outputId": "466f66ec-5ead-4ad6-e900-119ad88d0aa4"
   },
   "outputs": [
    {
     "data": {
      "text/plain": [
       "10"
      ]
     },
     "execution_count": 29,
     "metadata": {},
     "output_type": "execute_result"
    }
   ],
   "source": [
    "a -= 1\n",
    "a"
   ]
  },
  {
   "cell_type": "code",
   "execution_count": null,
   "metadata": {
    "id": "vMWCC6S9qYAC",
    "outputId": "020186bf-8279-488f-b4af-bc97d94b66c0"
   },
   "outputs": [
    {
     "data": {
      "text/plain": [
       "11"
      ]
     },
     "execution_count": 31,
     "metadata": {},
     "output_type": "execute_result"
    }
   ],
   "source": [
    "b = a +1\n",
    "b"
   ]
  },
  {
   "cell_type": "code",
   "execution_count": null,
   "metadata": {
    "id": "Qn8VYRe1qYAC",
    "outputId": "74a633ac-b24a-4b88-d4f2-257f4c93813d"
   },
   "outputs": [
    {
     "data": {
      "text/plain": [
       "9"
      ]
     },
     "execution_count": 32,
     "metadata": {},
     "output_type": "execute_result"
    }
   ],
   "source": [
    "c = a -1\n",
    "c"
   ]
  },
  {
   "cell_type": "code",
   "execution_count": null,
   "metadata": {
    "id": "_PQQv9u9qYAC",
    "outputId": "b2f3118d-9aa0-4032-ea14-aab98ce12f28"
   },
   "outputs": [
    {
     "data": {
      "text/plain": [
       "20"
      ]
     },
     "execution_count": 33,
     "metadata": {},
     "output_type": "execute_result"
    }
   ],
   "source": [
    "d = a *2\n",
    "d"
   ]
  },
  {
   "cell_type": "code",
   "execution_count": null,
   "metadata": {
    "id": "fom0ghHyqYAD",
    "outputId": "82a1068a-be93-47cc-cd1a-2163dc545217"
   },
   "outputs": [
    {
     "data": {
      "text/plain": [
       "20"
      ]
     },
     "execution_count": 34,
     "metadata": {},
     "output_type": "execute_result"
    }
   ],
   "source": [
    "e = a * 2\n",
    "e"
   ]
  },
  {
   "cell_type": "code",
   "execution_count": null,
   "metadata": {
    "id": "kkB1EZJRqYAD",
    "outputId": "bb3b324a-22dc-442e-98e2-7c985f36b847"
   },
   "outputs": [
    {
     "data": {
      "text/plain": [
       "5.0"
      ]
     },
     "execution_count": 37,
     "metadata": {},
     "output_type": "execute_result"
    }
   ],
   "source": [
    "e = a / 2\n",
    "e"
   ]
  },
  {
   "cell_type": "code",
   "execution_count": null,
   "metadata": {
    "id": "ciCjpZVGqYAD",
    "outputId": "1443b045-42ef-4d59-dd7d-8f84db7c16dd"
   },
   "outputs": [
    {
     "data": {
      "text/plain": [
       "1"
      ]
     },
     "execution_count": 4,
     "metadata": {},
     "output_type": "execute_result"
    }
   ],
   "source": [
    "f = a % 3\n",
    "f"
   ]
  },
  {
   "cell_type": "code",
   "execution_count": null,
   "metadata": {
    "id": "XRGbWmphqYAD",
    "outputId": "df690a75-6797-4621-c502-e2e80bf685ac"
   },
   "outputs": [
    {
     "data": {
      "text/plain": [
       "100"
      ]
     },
     "execution_count": 5,
     "metadata": {},
     "output_type": "execute_result"
    }
   ],
   "source": [
    "g = a ** 2\n",
    "g"
   ]
  },
  {
   "cell_type": "markdown",
   "metadata": {
    "id": "hj9Ld7n3qYAD"
   },
   "source": [
    "### Strings"
   ]
  },
  {
   "cell_type": "code",
   "execution_count": null,
   "metadata": {
    "id": "Li1JLWPzqYAD",
    "outputId": "b47e1277-c659-4d4c-d8d1-7bdaa5db2508"
   },
   "outputs": [
    {
     "data": {
      "text/plain": [
       "'gato cachorro coelho'"
      ]
     },
     "execution_count": 6,
     "metadata": {},
     "output_type": "execute_result"
    }
   ],
   "source": [
    "animais = \"gato \" + \"cachorro \"\n",
    "animais += \"coelho\"\n",
    "animais"
   ]
  },
  {
   "cell_type": "markdown",
   "metadata": {
    "id": "qApXZz04qYAE"
   },
   "source": [
    "### Lógicos"
   ]
  },
  {
   "cell_type": "code",
   "execution_count": null,
   "metadata": {
    "id": "9NZterfeqYAE",
    "outputId": "888d5998-4048-4592-b0e9-460a0957924f"
   },
   "outputs": [
    {
     "data": {
      "text/plain": [
       "False"
      ]
     },
     "execution_count": 45,
     "metadata": {},
     "output_type": "execute_result"
    }
   ],
   "source": [
    "a = True\n",
    "b = False\n",
    "\n",
    "a and b\n"
   ]
  },
  {
   "cell_type": "code",
   "execution_count": null,
   "metadata": {
    "id": "LGovSCE5qYAE",
    "outputId": "e5c969d7-94c8-47e5-f985-3eca22dec2b9"
   },
   "outputs": [
    {
     "data": {
      "text/plain": [
       "True"
      ]
     },
     "execution_count": 46,
     "metadata": {},
     "output_type": "execute_result"
    }
   ],
   "source": [
    "a or b"
   ]
  },
  {
   "cell_type": "markdown",
   "metadata": {
    "id": "Ef_I1remqYAE"
   },
   "source": [
    "### Comparação aritmética"
   ]
  },
  {
   "cell_type": "code",
   "execution_count": null,
   "metadata": {
    "id": "GHWc8CseqYAE",
    "outputId": "d1b02519-9712-4a96-8c44-f88303dd2b25"
   },
   "outputs": [
    {
     "data": {
      "text/plain": [
       "True"
      ]
     },
     "execution_count": 19,
     "metadata": {},
     "output_type": "execute_result"
    }
   ],
   "source": [
    "a = 10\n",
    "b = 5\n",
    "\n",
    "a>=b"
   ]
  },
  {
   "cell_type": "code",
   "execution_count": null,
   "metadata": {
    "id": "opFDYYNzqYAE",
    "outputId": "7b19ea00-a3d1-4090-befc-499c74c3aaab"
   },
   "outputs": [
    {
     "data": {
      "text/plain": [
       "False"
      ]
     },
     "execution_count": 48,
     "metadata": {},
     "output_type": "execute_result"
    }
   ],
   "source": [
    "a<b"
   ]
  },
  {
   "cell_type": "code",
   "execution_count": null,
   "metadata": {
    "id": "lNNJjPjzqYAE",
    "outputId": "ab60076d-0b71-4e9f-cf03-75aa41c50acf"
   },
   "outputs": [
    {
     "data": {
      "text/plain": [
       "False"
      ]
     },
     "execution_count": 49,
     "metadata": {},
     "output_type": "execute_result"
    }
   ],
   "source": [
    "a==b"
   ]
  },
  {
   "cell_type": "code",
   "execution_count": null,
   "metadata": {
    "id": "7jcGm8PdqYAF",
    "outputId": "cb1d8fe0-0141-40ad-9f28-fa5f97cf659e"
   },
   "outputs": [
    {
     "data": {
      "text/plain": [
       "True"
      ]
     },
     "execution_count": 51,
     "metadata": {},
     "output_type": "execute_result"
    }
   ],
   "source": [
    "a != b"
   ]
  },
  {
   "cell_type": "markdown",
   "metadata": {
    "id": "Mw_kw3_uqYAF"
   },
   "source": [
    "## Controle de fluxo"
   ]
  },
  {
   "cell_type": "markdown",
   "metadata": {
    "id": "FZaWUgFPqYAF"
   },
   "source": [
    "### Condicionais"
   ]
  },
  {
   "cell_type": "code",
   "execution_count": null,
   "metadata": {
    "id": "GtnY-BlAqYAF",
    "outputId": "b846bef9-2c63-45f5-fa2c-94d208c3612d"
   },
   "outputs": [
    {
     "name": "stdout",
     "output_type": "stream",
     "text": [
      "B\n"
     ]
    }
   ],
   "source": [
    "nota = 82\n",
    "if nota >=90:\n",
    "    if nota ==100:\n",
    "        print('A+')\n",
    "    else:\n",
    "        print('A')\n",
    "elif nota >=80:\n",
    "    print(\"B\")\n",
    "elif nota >= 70:\n",
    "    print(\"C\")\n",
    "else:\n",
    "    print(\"F\")"
   ]
  },
  {
   "cell_type": "markdown",
   "metadata": {
    "id": "pHmrf_TyqYAF"
   },
   "source": [
    "### For Loop"
   ]
  },
  {
   "cell_type": "code",
   "execution_count": null,
   "metadata": {
    "id": "MBNKNYVOqYAF",
    "outputId": "8809d76e-467d-42fd-b95c-30e2d341e8c6"
   },
   "outputs": [
    {
     "name": "stdout",
     "output_type": "stream",
     "text": [
      "0\n",
      "1\n",
      "2\n"
     ]
    }
   ],
   "source": [
    "for x in range(3): \n",
    "    print(x)\n"
   ]
  },
  {
   "cell_type": "code",
   "execution_count": null,
   "metadata": {
    "id": "Xz8TEfmpqYAG",
    "outputId": "e04c7a5f-0cbf-43f6-b0ae-9c190a6823c2"
   },
   "outputs": [
    {
     "name": "stdout",
     "output_type": "stream",
     "text": [
      "banana\n",
      "laranja\n"
     ]
    }
   ],
   "source": [
    "frutas = ['banana', 'laranja']\n",
    "\n",
    "for f in frutas:\n",
    "    print(f)"
   ]
  },
  {
   "cell_type": "markdown",
   "metadata": {
    "id": "_XIc8M7LqYAG"
   },
   "source": [
    "### For loops expandidos"
   ]
  },
  {
   "cell_type": "code",
   "execution_count": null,
   "metadata": {
    "id": "xa7q5rLcqYAG",
    "outputId": "8c62a5a5-0538-4cf3-ff42-50d6f1496082"
   },
   "outputs": [
    {
     "name": "stdout",
     "output_type": "stream",
     "text": [
      "SP - Sao Paulo\n",
      "MG - Minas Gerais\n"
     ]
    }
   ],
   "source": [
    "estados = {'SP': 'Sao Paulo','MG': 'Minas Gerais'}\n",
    "\n",
    "for chave, valor in estados.items():\n",
    "    print(chave+' - '+valor)"
   ]
  },
  {
   "cell_type": "markdown",
   "metadata": {
    "id": "aLphDtmiqYAG"
   },
   "source": [
    "### While "
   ]
  },
  {
   "cell_type": "code",
   "execution_count": null,
   "metadata": {
    "id": "HUXz1UwBqYAG",
    "outputId": "6058dc9e-ec32-4194-a286-b111d97d43e5"
   },
   "outputs": [
    {
     "name": "stdout",
     "output_type": "stream",
     "text": [
      "0\n",
      "1\n",
      "2\n",
      "3\n"
     ]
    }
   ],
   "source": [
    "c = 0\n",
    "while c<4:\n",
    "    print(c)\n",
    "    c = c +1"
   ]
  },
  {
   "cell_type": "code",
   "execution_count": null,
   "metadata": {
    "id": "a3zdZwiWqYAG",
    "outputId": "50b474cd-d5b5-4a29-d401-3c349889460f"
   },
   "outputs": [
    {
     "name": "stdout",
     "output_type": "stream",
     "text": [
      "1\n",
      "2\n",
      "3\n",
      "4\n"
     ]
    }
   ],
   "source": [
    "c = 0\n",
    "while True:\n",
    "    c = c +1\n",
    "    print(c)\n",
    "    if c ==4:\n",
    "        break"
   ]
  },
  {
   "cell_type": "markdown",
   "metadata": {
    "id": "kV1paE_3qYAG"
   },
   "source": [
    "## Entrada e saída"
   ]
  },
  {
   "cell_type": "code",
   "execution_count": null,
   "metadata": {
    "id": "KRyqUyWgqYAH"
   },
   "outputs": [],
   "source": [
    "arquivo = open('resultado.txt','w')\n",
    "arquivo.write('a\\n')\n",
    "arquivo.write('b')\n",
    "arquivo.close()"
   ]
  },
  {
   "cell_type": "code",
   "execution_count": null,
   "metadata": {
    "id": "jxqitVkxqYAH",
    "outputId": "83785295-a2cb-4a36-f0c0-8b3cda16ffc8"
   },
   "outputs": [
    {
     "name": "stdout",
     "output_type": "stream",
     "text": [
      "a\n",
      "\n",
      "b\n"
     ]
    }
   ],
   "source": [
    "#with fecha o arquivo automaticamente\n",
    "with open('resultado.txt', 'r') as reader:\n",
    "    for line in reader.readlines():\n",
    "        print(line)"
   ]
  },
  {
   "cell_type": "markdown",
   "metadata": {
    "id": "E4OWb_1bqYAH"
   },
   "source": [
    "## Funções"
   ]
  },
  {
   "cell_type": "code",
   "execution_count": null,
   "metadata": {
    "id": "q21oF_0_qYAH",
    "outputId": "902c26b5-6060-440b-a6e6-fd870e2aa5b1"
   },
   "outputs": [
    {
     "name": "stdout",
     "output_type": "stream",
     "text": [
      "Tenha um bom curso!\n"
     ]
    }
   ],
   "source": [
    "def imprime(t):\n",
    "    print(t)\n",
    "\n",
    "def main():\n",
    "    texto = \"Tenha um bom curso!\"\n",
    "    imprime(texto)\n",
    "\n",
    "if __name__ == '__main__':\n",
    "    main()       "
   ]
  },
  {
   "cell_type": "markdown",
   "metadata": {
    "id": "1GXdxA7nqYAH"
   },
   "source": [
    "### Import"
   ]
  },
  {
   "cell_type": "code",
   "execution_count": null,
   "metadata": {
    "id": "KstjDKEVqYAH",
    "outputId": "539134e2-6680-4802-9029-35bd4c4960b7"
   },
   "outputs": [
    {
     "name": "stdout",
     "output_type": "stream",
     "text": [
      "10.0\n"
     ]
    }
   ],
   "source": [
    "import math\n",
    "\n",
    "print(math.sqrt(100))"
   ]
  },
  {
   "cell_type": "markdown",
   "metadata": {
    "id": "J18Gik0VqYAH"
   },
   "source": [
    "## Lambda"
   ]
  },
  {
   "cell_type": "markdown",
   "metadata": {
    "id": "TlDtcSYaqYAH"
   },
   "source": [
    "Em Python, usamos a palavra-chave lambda para declarar uma função anônima, e é por isso que nos referimos a elas como \"funções lambda\". Uma função anônima se refere a uma função declarada sem nome."
   ]
  },
  {
   "cell_type": "code",
   "execution_count": null,
   "metadata": {
    "id": "XGv6P_MmqYAI",
    "outputId": "167dceb0-1122-43f8-dff7-29c3192adfc0"
   },
   "outputs": [
    {
     "data": {
      "text/plain": [
       "300"
      ]
     },
     "execution_count": 29,
     "metadata": {},
     "output_type": "execute_result"
    }
   ],
   "source": [
    "multiplicar = lambda x,y: x*y\n",
    "multiplicar(10,30)"
   ]
  },
  {
   "cell_type": "code",
   "execution_count": null,
   "metadata": {
    "id": "jzwYorQcqYAI",
    "outputId": "00193829-eaa0-4848-80c4-b7268356997f"
   },
   "outputs": [
    {
     "name": "stdout",
     "output_type": "stream",
     "text": [
      "[5, 6, 6]\n"
     ]
    }
   ],
   "source": [
    "def myfunc(n):\n",
    "    return len(n)\n",
    "\n",
    "\n",
    "#A função map () executa uma função especificada para cada item em um iterável. \n",
    "#O item é enviado para a função como parâmetro.\n",
    "x = map(myfunc, ('apple', 'banana', 'cherry'))\n",
    "\n",
    "\n",
    "print(list(x))"
   ]
  },
  {
   "cell_type": "code",
   "execution_count": null,
   "metadata": {
    "id": "rd8QEfUrqYAI",
    "outputId": "ed614ff9-02d2-47e9-ed5e-cbc411b07313"
   },
   "outputs": [
    {
     "name": "stdout",
     "output_type": "stream",
     "text": [
      "[5, 6, 6]\n"
     ]
    }
   ],
   "source": [
    "x = map(lambda x: len(x), ('apple', 'banana', 'cherry'))\n",
    "\n",
    "\n",
    "print(list(x))"
   ]
  }
 ],
 "metadata": {
  "colab": {
   "provenance": []
  },
  "kernelspec": {
   "display_name": "Python 3 (ipykernel)",
   "language": "python",
   "name": "python3"
  },
  "language_info": {
   "codemirror_mode": {
    "name": "ipython",
    "version": 3
   },
   "file_extension": ".py",
   "mimetype": "text/x-python",
   "name": "python",
   "nbconvert_exporter": "python",
   "pygments_lexer": "ipython3",
   "version": "3.9.13"
  }
 },
 "nbformat": 4,
 "nbformat_minor": 1
}
