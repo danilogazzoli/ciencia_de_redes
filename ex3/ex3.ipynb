{
 "cells": [
  {
   "cell_type": "markdown",
   "id": "b9e03952",
   "metadata": {},
   "source": [
    "**Aluno:** Danilo Gazzoli Resende"
   ]
  },
  {
   "cell_type": "markdown",
   "id": "a1791e1f",
   "metadata": {},
   "source": [
    "1- Usando a rede do desafio \"GraphMissingEdges.gml\", faça o que é pedido abaixo:"
   ]
  },
  {
   "cell_type": "code",
   "execution_count": 1,
   "id": "c8d6f49c",
   "metadata": {},
   "outputs": [],
   "source": [
    "import pandas as pd"
   ]
  },
  {
   "cell_type": "code",
   "execution_count": 2,
   "id": "44ecff40",
   "metadata": {},
   "outputs": [],
   "source": [
    "import networkx as nx"
   ]
  },
  {
   "cell_type": "code",
   "execution_count": 3,
   "id": "f3ed0339",
   "metadata": {},
   "outputs": [],
   "source": [
    "G = nx.read_gml('../desafio/data/GraphMissingEdges.gml')"
   ]
  },
  {
   "cell_type": "code",
   "execution_count": 4,
   "id": "0397bb67",
   "metadata": {},
   "outputs": [],
   "source": [
    "allCategories = pd.read_csv(\"../desafio/data/categories.csv\")"
   ]
  },
  {
   "cell_type": "code",
   "execution_count": 5,
   "id": "fe84accc",
   "metadata": {},
   "outputs": [],
   "source": [
    "degree = nx.degree_centrality(G)\n",
    "betweenness = nx.betweenness_centrality(G)\n",
    "closeness = nx.closeness_centrality(G)\n",
    "eigenvector = nx.eigenvector_centrality(G)"
   ]
  },
  {
   "cell_type": "code",
   "execution_count": 6,
   "id": "6ca4028f",
   "metadata": {},
   "outputs": [],
   "source": [
    "nx.set_node_attributes(G, degree, \"degree\")\n",
    "nx.set_node_attributes(G, betweenness, \"betweenness\")\n",
    "nx.set_node_attributes(G, closeness, \"closeness\")\n",
    "nx.set_node_attributes(G, eigenvector, \"eigenvector\")\n",
    "\n",
    "nx.write_gml(G, \"centralidade.gml\")"
   ]
  },
  {
   "cell_type": "markdown",
   "id": "3f1fa40c",
   "metadata": {},
   "source": [
    "a) Compute a centralidade de grau e identifique os top 50 lugares de acordo com essa métrica.\n",
    "Mostre o nome e categorias dos lugares."
   ]
  },
  {
   "cell_type": "code",
   "execution_count": 7,
   "id": "cde972f7",
   "metadata": {},
   "outputs": [
    {
     "name": "stdout",
     "output_type": "stream",
     "text": [
      "Restaurants\n"
     ]
    }
   ],
   "source": [
    "print(allCategories[allCategories['CategoryId'] == 1]['names'][1])"
   ]
  },
  {
   "cell_type": "code",
   "execution_count": 8,
   "id": "f2d9ecd2",
   "metadata": {},
   "outputs": [
    {
     "data": {
      "text/plain": [
       "['Professional Services', 'Computers']"
      ]
     },
     "execution_count": 8,
     "metadata": {},
     "output_type": "execute_result"
    }
   ],
   "source": [
    "allCategories.query(f'CategoryId in [3,6]')['names'].to_list()"
   ]
  },
  {
   "cell_type": "code",
   "execution_count": 9,
   "id": "dc8fbb59",
   "metadata": {},
   "outputs": [],
   "source": [
    "def print_top50(top50):\n",
    "    for node in top50:\n",
    "        name = G.nodes[node]['name']\n",
    "        categs = G.nodes[node]['categories']\n",
    "        categorias = allCategories.query(f'CategoryId in [{categs}]')['names'].to_list()       \n",
    "        print(f'Name:{name}, categorias:{categorias}')\n",
    "        print('*'*50)"
   ]
  },
  {
   "cell_type": "code",
   "execution_count": 11,
   "id": "6754e6b3",
   "metadata": {},
   "outputs": [
    {
     "name": "stdout",
     "output_type": "stream",
     "text": [
      "Name:Gaucho Parrilla Argentina, categorias:['Restaurants', 'Latin American', 'Seafood', 'Argentine']\n",
      "**************************************************\n",
      "Name:Condado Tacos, categorias:['Restaurants', 'Nightlife', 'Cocktail Bars', 'Bars', 'Tacos', 'Mexican']\n",
      "**************************************************\n",
      "Name:Noodlehead, categorias:['Restaurants', 'Thai', 'Noodles', 'Food']\n",
      "**************************************************\n",
      "Name:täkō, categorias:['Restaurants', 'American (New)', 'Mexican']\n",
      "**************************************************\n",
      "Name:Bakersfield, categorias:['Restaurants', 'Nightlife', 'Seafood', 'Cocktail Bars', 'Bars', 'Tacos', 'American (New)', 'Mexican']\n",
      "**************************************************\n",
      "Name:Smallman Galley, categorias:['Restaurants', 'Nightlife', 'Coffee & Tea', 'Bars', 'American (New)', 'American (Traditional)', 'Food']\n",
      "**************************************************\n",
      "Name:Meat & Potatoes, categorias:['Restaurants', 'Gastropubs', 'Specialty Food', 'American (New)', 'Meat Shops', 'Steakhouses', 'Food']\n",
      "**************************************************\n",
      "Name:DiAnoia's Eatery, categorias:['Restaurants', 'Delis', 'Sandwiches', 'Italian']\n",
      "**************************************************\n",
      "Name:Piada Italian Street Food, categorias:['Restaurants', 'Wraps', 'Italian', 'Salad']\n",
      "**************************************************\n",
      "Name:Banh Mi & Ti, categorias:['Restaurants', 'Bubble Tea', 'Cafes', 'Food', 'Vietnamese']\n",
      "**************************************************\n",
      "Name:Pork & Beans, categorias:['Restaurants', 'Nightlife', 'Event Planning & Services', 'Cocktail Bars', 'Bars', 'Sandwiches', 'Smokehouse', 'Beer Gardens', 'American (Traditional)', 'Beer Bar', 'Barbeque', 'Food', 'Caterers']\n",
      "**************************************************\n",
      "Name:Social House Seven, categorias:['Restaurants', 'Sushi Bars', 'Chinese', 'Asian Fusion', 'Japanese']\n",
      "**************************************************\n",
      "Name:Millie's Homemade Ice Cream, categorias:['Restaurants', 'Sandwiches', 'Food', 'Ice Cream & Frozen Yogurt']\n",
      "**************************************************\n",
      "Name:Southern Tier Brewery Pittsburgh, categorias:['Restaurants', 'Nightlife', 'Pubs', 'Gastropubs', 'Breweries', 'Bars', 'Food']\n",
      "**************************************************\n",
      "Name:City Works - Pittsburgh, categorias:['Restaurants', 'Nightlife', 'Pubs', 'Bars', 'Sports Bars', 'American (New)', 'American (Traditional)', 'Beer Bar']\n",
      "**************************************************\n",
      "Name:The Porch at Schenley, categorias:['Restaurants', 'Pizza', 'Burgers', 'Sandwiches', 'American (New)', 'Soup']\n",
      "**************************************************\n",
      "Name:Altius, categorias:['Restaurants', 'Venues & Event Spaces', 'Nightlife', 'Event Planning & Services', 'Bars', 'American (New)', 'Desserts', 'Food']\n",
      "**************************************************\n",
      "Name:The Abbey on Butler Street, categorias:['Restaurants', 'Nightlife', 'Coffee & Tea', 'Bars', 'Cafes', 'American (New)', 'Food']\n",
      "**************************************************\n",
      "Name:Muddy Waters Oyster Bar, categorias:['Restaurants', 'Nightlife', 'Seafood', 'Cocktail Bars', 'Bars', 'Cajun/Creole']\n",
      "**************************************************\n",
      "Name:Burgh'ers Brewing, categorias:['Restaurants', 'Brewpubs', 'Event Planning & Services', 'Breweries', 'Burgers', 'Sandwiches', 'American (New)', 'Food', 'Caterers', 'Salad']\n",
      "**************************************************\n",
      "Name:Mindful Brewing Company, categorias:['Breweries', 'Food', 'BeerWineSpirits']\n",
      "**************************************************\n",
      "Name:Pirata, categorias:['Restaurants', 'Nightlife', 'Cocktail Bars', 'Bars', 'Sandwiches', 'Caribbean']\n",
      "**************************************************\n",
      "Name:Primanti Bros, categorias:['Restaurants', 'Nightlife', 'Bars', 'Sandwiches', 'Sports Bars', 'American (New)', 'Arts & Entertainment', 'Botanical Gardens']\n",
      "**************************************************\n",
      "Name:Proper Brick Oven & Tap Room, categorias:['Restaurants', 'Nightlife', 'Pizza', 'Bars', 'Italian', 'Food', 'BeerWineSpirits']\n",
      "**************************************************\n",
      "Name:Butcher and the Rye, categorias:['Restaurants', 'Nightlife', 'Cocktail Bars', 'Bars', 'American (New)', 'Food', 'Butcher']\n",
      "**************************************************\n",
      "Name:Church Brew Works, categorias:['Restaurants', 'Nightlife', 'Breweries', 'Bars', 'Desserts', 'American (Traditional)', 'Food']\n",
      "**************************************************\n",
      "Name:Totopo Mexican Kitchen and Bar, categorias:['Restaurants', 'Nightlife', 'Latin American', 'Bars', 'Mexican']\n",
      "**************************************************\n",
      "Name:Ki Ramen, categorias:['Restaurants', 'Nightlife', 'Bars', 'Noodles', 'Ramen', 'Japanese']\n",
      "**************************************************\n",
      "Name:Deluca's Diner, categorias:['Restaurants', 'Breakfast & Brunch', 'Diners', 'American (Traditional)']\n",
      "**************************************************\n",
      "Name:Redhawk Coffee, categorias:['Restaurants', 'Breakfast & Brunch', 'Coffee & Tea', 'Food Trucks', 'Desserts', 'Food']\n",
      "**************************************************\n",
      "Name:Everyday Noodles, categorias:['Restaurants', 'Noodles', 'Vegetarian', 'Chinese']\n",
      "**************************************************\n",
      "Name:Hofbrauhaus Pittsburgh, categorias:['Restaurants', 'Nightlife', 'Pubs', 'Breweries', 'Bars', 'Food', 'German', 'French']\n",
      "**************************************************\n",
      "Name:Smoke BBQ Taqueria, categorias:['Restaurants', 'Burgers', 'Tacos', 'Barbeque', 'Mexican']\n",
      "**************************************************\n",
      "Name:Primanti Bros, categorias:['Restaurants', 'Nightlife', 'Bars', 'Sandwiches', 'Chicken Wings', 'Sports Bars', 'American (New)']\n",
      "**************************************************\n",
      "Name:B52 Cafe, categorias:['Restaurants', 'Middle Eastern', 'Breakfast & Brunch', 'Coffee & Tea', 'Cafes', 'Vegan', 'Bakeries', 'Food']\n",
      "**************************************************\n",
      "Name:Naturoll Creamery, categorias:['Specialty Food', 'Cupcakes', 'Desserts', 'Food', 'Ice Cream & Frozen Yogurt']\n",
      "**************************************************\n",
      "Name:Sienna Mercato, categorias:['Restaurants', 'Nightlife', 'Pizza', 'Cocktail Bars', 'Bars', 'Italian', 'American (New)']\n",
      "**************************************************\n",
      "Name:Istanbul Sofra, categorias:['Restaurants', 'Turkish', 'Middle Eastern', 'Food Delivery Services', 'Mediterranean', 'Food', 'Greek']\n",
      "**************************************************\n",
      "Name:The Milk Shake Factory, categorias:['Specialty Food', 'Desserts', 'Food', 'Ice Cream & Frozen Yogurt', 'Chocolatiers & Shops']\n",
      "**************************************************\n",
      "Name:Senyai Thai Kitchen, categorias:['Restaurants', 'Seafood', 'Thai', 'Noodles', 'Vegetarian']\n",
      "**************************************************\n",
      "Name:Eleven, categorias:['Restaurants', 'American (New)']\n",
      "**************************************************\n",
      "Name:Kaya, categorias:['Restaurants', 'Nightlife', 'Latin American', 'Bars', 'Caribbean']\n",
      "**************************************************\n",
      "Name:Fat Heads Saloon, categorias:['Restaurants', 'Nightlife', 'Bars', 'American (Traditional)']\n",
      "**************************************************\n",
      "Name:Tres Rios, categorias:['Restaurants', 'Nightlife', 'Cocktail Bars', 'Bars', 'Mexican']\n",
      "**************************************************\n",
      "Name:Umami, categorias:['Restaurants', 'Nightlife', 'Bars', 'Sushi Bars', 'Japanese']\n",
      "**************************************************\n",
      "Name:Pittsburgh Poke, categorias:['Restaurants', 'Thai', 'Sushi Bars', 'Food', 'Poke', 'Japanese']\n",
      "**************************************************\n",
      "Name:Ten Penny, categorias:['Restaurants', 'American (New)', 'American (Traditional)']\n",
      "**************************************************\n",
      "Name:Coca Cafe, categorias:['Restaurants', 'Breakfast & Brunch', 'Coffee & Tea', 'Thai', 'American (New)', 'Food']\n",
      "**************************************************\n",
      "Name:Mount Everest Sushi, categorias:['Restaurants', 'Hawaiian', 'Sushi Bars', 'Food', 'Poke', 'Asian Fusion', 'Japanese']\n",
      "**************************************************\n",
      "Name:The Urban Tap, categorias:['Restaurants', 'Gastropubs', 'Sandwiches', 'American (New)', 'Soup', 'American (Traditional)', 'Salad']\n",
      "**************************************************\n"
     ]
    }
   ],
   "source": [
    "## TOP 50 de centralidade de grau\n",
    "top50 = sorted(G.nodes(), key=lambda n: G.nodes[n]['degree'], reverse=True)[:50]\n",
    "\n",
    "print_top50(top50)"
   ]
  },
  {
   "cell_type": "code",
   "execution_count": null,
   "id": "d6806976",
   "metadata": {},
   "outputs": [],
   "source": [
    "sub_graph = G.subgraph(top50)"
   ]
  },
  {
   "cell_type": "markdown",
   "id": "f1890f28",
   "metadata": {},
   "source": [
    "b) Compute a centralidade de intermediação e identifique os top 50 lugares de acordo com essa\n",
    "métrica. Mostre o nome e categorias dos lugares."
   ]
  },
  {
   "cell_type": "code",
   "execution_count": 12,
   "id": "2d68cedb",
   "metadata": {},
   "outputs": [
    {
     "name": "stdout",
     "output_type": "stream",
     "text": [
      "Name:Gaucho Parrilla Argentina, categorias:['Restaurants', 'Latin American', 'Seafood', 'Argentine']\n",
      "**************************************************\n",
      "Name:Condado Tacos, categorias:['Restaurants', 'Nightlife', 'Cocktail Bars', 'Bars', 'Tacos', 'Mexican']\n",
      "**************************************************\n",
      "Name:Noodlehead, categorias:['Restaurants', 'Thai', 'Noodles', 'Food']\n",
      "**************************************************\n",
      "Name:täkō, categorias:['Restaurants', 'American (New)', 'Mexican']\n",
      "**************************************************\n",
      "Name:Bakersfield, categorias:['Restaurants', 'Nightlife', 'Seafood', 'Cocktail Bars', 'Bars', 'Tacos', 'American (New)', 'Mexican']\n",
      "**************************************************\n",
      "Name:Smallman Galley, categorias:['Restaurants', 'Nightlife', 'Coffee & Tea', 'Bars', 'American (New)', 'American (Traditional)', 'Food']\n",
      "**************************************************\n",
      "Name:Meat & Potatoes, categorias:['Restaurants', 'Gastropubs', 'Specialty Food', 'American (New)', 'Meat Shops', 'Steakhouses', 'Food']\n",
      "**************************************************\n",
      "Name:DiAnoia's Eatery, categorias:['Restaurants', 'Delis', 'Sandwiches', 'Italian']\n",
      "**************************************************\n",
      "Name:Piada Italian Street Food, categorias:['Restaurants', 'Wraps', 'Italian', 'Salad']\n",
      "**************************************************\n",
      "Name:City Works - Pittsburgh, categorias:['Restaurants', 'Nightlife', 'Pubs', 'Bars', 'Sports Bars', 'American (New)', 'American (Traditional)', 'Beer Bar']\n",
      "**************************************************\n",
      "Name:Banh Mi & Ti, categorias:['Restaurants', 'Bubble Tea', 'Cafes', 'Food', 'Vietnamese']\n",
      "**************************************************\n",
      "Name:Pork & Beans, categorias:['Restaurants', 'Nightlife', 'Event Planning & Services', 'Cocktail Bars', 'Bars', 'Sandwiches', 'Smokehouse', 'Beer Gardens', 'American (Traditional)', 'Beer Bar', 'Barbeque', 'Food', 'Caterers']\n",
      "**************************************************\n",
      "Name:Southern Tier Brewery Pittsburgh, categorias:['Restaurants', 'Nightlife', 'Pubs', 'Gastropubs', 'Breweries', 'Bars', 'Food']\n",
      "**************************************************\n",
      "Name:Social House Seven, categorias:['Restaurants', 'Sushi Bars', 'Chinese', 'Asian Fusion', 'Japanese']\n",
      "**************************************************\n",
      "Name:Mindful Brewing Company, categorias:['Breweries', 'Food', 'BeerWineSpirits']\n",
      "**************************************************\n",
      "Name:Millie's Homemade Ice Cream, categorias:['Restaurants', 'Sandwiches', 'Food', 'Ice Cream & Frozen Yogurt']\n",
      "**************************************************\n",
      "Name:The Abbey on Butler Street, categorias:['Restaurants', 'Nightlife', 'Coffee & Tea', 'Bars', 'Cafes', 'American (New)', 'Food']\n",
      "**************************************************\n",
      "Name:The Porch at Schenley, categorias:['Restaurants', 'Pizza', 'Burgers', 'Sandwiches', 'American (New)', 'Soup']\n",
      "**************************************************\n",
      "Name:Totopo Mexican Kitchen and Bar, categorias:['Restaurants', 'Nightlife', 'Latin American', 'Bars', 'Mexican']\n",
      "**************************************************\n",
      "Name:Burgh'ers Brewing, categorias:['Restaurants', 'Brewpubs', 'Event Planning & Services', 'Breweries', 'Burgers', 'Sandwiches', 'American (New)', 'Food', 'Caterers', 'Salad']\n",
      "**************************************************\n",
      "Name:Altius, categorias:['Restaurants', 'Venues & Event Spaces', 'Nightlife', 'Event Planning & Services', 'Bars', 'American (New)', 'Desserts', 'Food']\n",
      "**************************************************\n",
      "Name:Ki Ramen, categorias:['Restaurants', 'Nightlife', 'Bars', 'Noodles', 'Ramen', 'Japanese']\n",
      "**************************************************\n",
      "Name:Pirata, categorias:['Restaurants', 'Nightlife', 'Cocktail Bars', 'Bars', 'Sandwiches', 'Caribbean']\n",
      "**************************************************\n",
      "Name:Proper Brick Oven & Tap Room, categorias:['Restaurants', 'Nightlife', 'Pizza', 'Bars', 'Italian', 'Food', 'BeerWineSpirits']\n",
      "**************************************************\n",
      "Name:Primanti Bros, categorias:['Restaurants', 'Nightlife', 'Bars', 'Sandwiches', 'Sports Bars', 'American (New)', 'Arts & Entertainment', 'Botanical Gardens']\n",
      "**************************************************\n",
      "Name:Muddy Waters Oyster Bar, categorias:['Restaurants', 'Nightlife', 'Seafood', 'Cocktail Bars', 'Bars', 'Cajun/Creole']\n",
      "**************************************************\n",
      "Name:Smoke BBQ Taqueria, categorias:['Restaurants', 'Burgers', 'Tacos', 'Barbeque', 'Mexican']\n",
      "**************************************************\n",
      "Name:Butcher and the Rye, categorias:['Restaurants', 'Nightlife', 'Cocktail Bars', 'Bars', 'American (New)', 'Food', 'Butcher']\n",
      "**************************************************\n",
      "Name:Church Brew Works, categorias:['Restaurants', 'Nightlife', 'Breweries', 'Bars', 'Desserts', 'American (Traditional)', 'Food']\n",
      "**************************************************\n",
      "Name:Everyday Noodles, categorias:['Restaurants', 'Noodles', 'Vegetarian', 'Chinese']\n",
      "**************************************************\n",
      "Name:Naturoll Creamery, categorias:['Specialty Food', 'Cupcakes', 'Desserts', 'Food', 'Ice Cream & Frozen Yogurt']\n",
      "**************************************************\n",
      "Name:B52 Cafe, categorias:['Restaurants', 'Middle Eastern', 'Breakfast & Brunch', 'Coffee & Tea', 'Cafes', 'Vegan', 'Bakeries', 'Food']\n",
      "**************************************************\n",
      "Name:Central Diner & Grille, categorias:['Restaurants', 'Seafood', 'Diners', 'American (Traditional)', 'Greek']\n",
      "**************************************************\n",
      "Name:Primanti Bros, categorias:['Restaurants', 'Nightlife', 'Bars', 'Sandwiches', 'Chicken Wings', 'Sports Bars', 'American (New)']\n",
      "**************************************************\n",
      "Name:Mount Everest Sushi, categorias:['Restaurants', 'Hawaiian', 'Sushi Bars', 'Food', 'Poke', 'Asian Fusion', 'Japanese']\n",
      "**************************************************\n",
      "Name:Fat Heads Saloon, categorias:['Restaurants', 'Nightlife', 'Bars', 'American (Traditional)']\n",
      "**************************************************\n",
      "Name:Senyai Thai Kitchen, categorias:['Restaurants', 'Seafood', 'Thai', 'Noodles', 'Vegetarian']\n",
      "**************************************************\n",
      "Name:Redhawk Coffee, categorias:['Restaurants', 'Breakfast & Brunch', 'Coffee & Tea', 'Food Trucks', 'Desserts', 'Food']\n",
      "**************************************************\n",
      "Name:Hofbrauhaus Pittsburgh, categorias:['Restaurants', 'Nightlife', 'Pubs', 'Breweries', 'Bars', 'Food', 'German', 'French']\n",
      "**************************************************\n",
      "Name:Sienna Mercato, categorias:['Restaurants', 'Nightlife', 'Pizza', 'Cocktail Bars', 'Bars', 'Italian', 'American (New)']\n",
      "**************************************************\n",
      "Name:Coca Cafe, categorias:['Restaurants', 'Breakfast & Brunch', 'Coffee & Tea', 'Thai', 'American (New)', 'Food']\n",
      "**************************************************\n",
      "Name:Deluca's Diner, categorias:['Restaurants', 'Breakfast & Brunch', 'Diners', 'American (Traditional)']\n",
      "**************************************************\n",
      "Name:Mineo's Pizza House, categorias:['Restaurants', 'Pizza', 'Italian', 'Desserts', 'Food', 'Ice Cream & Frozen Yogurt']\n",
      "**************************************************\n",
      "Name:Pittsburgh Poke, categorias:['Restaurants', 'Thai', 'Sushi Bars', 'Food', 'Poke', 'Japanese']\n",
      "**************************************************\n",
      "Name:Istanbul Sofra, categorias:['Restaurants', 'Turkish', 'Middle Eastern', 'Food Delivery Services', 'Mediterranean', 'Food', 'Greek']\n",
      "**************************************************\n",
      "Name:Kelly O's Diner, categorias:['Restaurants', 'Breakfast & Brunch', 'Diners', 'American (Traditional)']\n",
      "**************************************************\n",
      "Name:Nicky's Thai Kitchen, categorias:['Restaurants', 'Seafood', 'Thai', 'Vegan', 'Desserts', 'Food']\n",
      "**************************************************\n",
      "Name:The Yard, categorias:['Restaurants', 'Nightlife', 'Gastropubs', 'Bars', 'American (New)']\n",
      "**************************************************\n",
      "Name:Tres Rios, categorias:['Restaurants', 'Nightlife', 'Cocktail Bars', 'Bars', 'Mexican']\n",
      "**************************************************\n",
      "Name:The Milk Shake Factory, categorias:['Specialty Food', 'Desserts', 'Food', 'Ice Cream & Frozen Yogurt', 'Chocolatiers & Shops']\n",
      "**************************************************\n"
     ]
    }
   ],
   "source": [
    "top50 = sorted(G.nodes(), key=lambda n: G.nodes[n]['betweenness'], reverse=True)[:50]\n",
    "\n",
    "print_top50(top50)"
   ]
  },
  {
   "cell_type": "markdown",
   "id": "cf3c81ed",
   "metadata": {},
   "source": [
    "c) Compute a centralidade de proximidade e identifique os top 50 lugares de acordo com essa\n",
    "métrica."
   ]
  },
  {
   "cell_type": "code",
   "execution_count": 13,
   "id": "fbf50ec4",
   "metadata": {},
   "outputs": [
    {
     "name": "stdout",
     "output_type": "stream",
     "text": [
      "Name:Gaucho Parrilla Argentina, categorias:['Restaurants', 'Latin American', 'Seafood', 'Argentine']\n",
      "**************************************************\n",
      "Name:täkō, categorias:['Restaurants', 'American (New)', 'Mexican']\n",
      "**************************************************\n",
      "Name:Condado Tacos, categorias:['Restaurants', 'Nightlife', 'Cocktail Bars', 'Bars', 'Tacos', 'Mexican']\n",
      "**************************************************\n",
      "Name:Smallman Galley, categorias:['Restaurants', 'Nightlife', 'Coffee & Tea', 'Bars', 'American (New)', 'American (Traditional)', 'Food']\n",
      "**************************************************\n",
      "Name:Bakersfield, categorias:['Restaurants', 'Nightlife', 'Seafood', 'Cocktail Bars', 'Bars', 'Tacos', 'American (New)', 'Mexican']\n",
      "**************************************************\n",
      "Name:Noodlehead, categorias:['Restaurants', 'Thai', 'Noodles', 'Food']\n",
      "**************************************************\n",
      "Name:Meat & Potatoes, categorias:['Restaurants', 'Gastropubs', 'Specialty Food', 'American (New)', 'Meat Shops', 'Steakhouses', 'Food']\n",
      "**************************************************\n",
      "Name:DiAnoia's Eatery, categorias:['Restaurants', 'Delis', 'Sandwiches', 'Italian']\n",
      "**************************************************\n",
      "Name:Pork & Beans, categorias:['Restaurants', 'Nightlife', 'Event Planning & Services', 'Cocktail Bars', 'Bars', 'Sandwiches', 'Smokehouse', 'Beer Gardens', 'American (Traditional)', 'Beer Bar', 'Barbeque', 'Food', 'Caterers']\n",
      "**************************************************\n",
      "Name:Piada Italian Street Food, categorias:['Restaurants', 'Wraps', 'Italian', 'Salad']\n",
      "**************************************************\n",
      "Name:Southern Tier Brewery Pittsburgh, categorias:['Restaurants', 'Nightlife', 'Pubs', 'Gastropubs', 'Breweries', 'Bars', 'Food']\n",
      "**************************************************\n",
      "Name:Social House Seven, categorias:['Restaurants', 'Sushi Bars', 'Chinese', 'Asian Fusion', 'Japanese']\n",
      "**************************************************\n",
      "Name:Pirata, categorias:['Restaurants', 'Nightlife', 'Cocktail Bars', 'Bars', 'Sandwiches', 'Caribbean']\n",
      "**************************************************\n",
      "Name:Banh Mi & Ti, categorias:['Restaurants', 'Bubble Tea', 'Cafes', 'Food', 'Vietnamese']\n",
      "**************************************************\n",
      "Name:Altius, categorias:['Restaurants', 'Venues & Event Spaces', 'Nightlife', 'Event Planning & Services', 'Bars', 'American (New)', 'Desserts', 'Food']\n",
      "**************************************************\n",
      "Name:Butcher and the Rye, categorias:['Restaurants', 'Nightlife', 'Cocktail Bars', 'Bars', 'American (New)', 'Food', 'Butcher']\n",
      "**************************************************\n",
      "Name:City Works - Pittsburgh, categorias:['Restaurants', 'Nightlife', 'Pubs', 'Bars', 'Sports Bars', 'American (New)', 'American (Traditional)', 'Beer Bar']\n",
      "**************************************************\n",
      "Name:The Milk Shake Factory, categorias:['Specialty Food', 'Desserts', 'Food', 'Ice Cream & Frozen Yogurt', 'Chocolatiers & Shops']\n",
      "**************************************************\n",
      "Name:Ki Ramen, categorias:['Restaurants', 'Nightlife', 'Bars', 'Noodles', 'Ramen', 'Japanese']\n",
      "**************************************************\n",
      "Name:Millie's Homemade Ice Cream, categorias:['Restaurants', 'Sandwiches', 'Food', 'Ice Cream & Frozen Yogurt']\n",
      "**************************************************\n",
      "Name:Primanti Bros, categorias:['Restaurants', 'Nightlife', 'Bars', 'Sandwiches', 'Sports Bars', 'American (New)', 'Arts & Entertainment', 'Botanical Gardens']\n",
      "**************************************************\n",
      "Name:Church Brew Works, categorias:['Restaurants', 'Nightlife', 'Breweries', 'Bars', 'Desserts', 'American (Traditional)', 'Food']\n",
      "**************************************************\n",
      "Name:The Abbey on Butler Street, categorias:['Restaurants', 'Nightlife', 'Coffee & Tea', 'Bars', 'Cafes', 'American (New)', 'Food']\n",
      "**************************************************\n",
      "Name:The Urban Tap, categorias:['Restaurants', 'Gastropubs', 'Sandwiches', 'American (New)', 'Soup', 'American (Traditional)', 'Salad']\n",
      "**************************************************\n",
      "Name:Proper Brick Oven & Tap Room, categorias:['Restaurants', 'Nightlife', 'Pizza', 'Bars', 'Italian', 'Food', 'BeerWineSpirits']\n",
      "**************************************************\n",
      "Name:Smoke BBQ Taqueria, categorias:['Restaurants', 'Burgers', 'Tacos', 'Barbeque', 'Mexican']\n",
      "**************************************************\n",
      "Name:Muddy Waters Oyster Bar, categorias:['Restaurants', 'Nightlife', 'Seafood', 'Cocktail Bars', 'Bars', 'Cajun/Creole']\n",
      "**************************************************\n",
      "Name:Primanti Bros, categorias:['Restaurants', 'Nightlife', 'Bars', 'Sandwiches', 'Chicken Wings', 'Sports Bars', 'American (New)']\n",
      "**************************************************\n",
      "Name:Emporio: A Meatball Joint, categorias:['Restaurants', 'Nightlife', 'Gluten-Free', 'Bars', 'Italian', 'American (New)', 'Desserts', 'Food']\n",
      "**************************************************\n",
      "Name:Pittsburgh Poke, categorias:['Restaurants', 'Thai', 'Sushi Bars', 'Food', 'Poke', 'Japanese']\n",
      "**************************************************\n",
      "Name:Ten Penny, categorias:['Restaurants', 'American (New)', 'American (Traditional)']\n",
      "**************************************************\n",
      "Name:The Porch at Schenley, categorias:['Restaurants', 'Pizza', 'Burgers', 'Sandwiches', 'American (New)', 'Soup']\n",
      "**************************************************\n",
      "Name:Casbah, categorias:['Restaurants', 'Nightlife', 'Breakfast & Brunch', 'Cocktail Bars', 'Bars', 'Wine Bars', 'Mediterranean', 'Diners', 'Greek']\n",
      "**************************************************\n",
      "Name:Redhawk Coffee, categorias:['Restaurants', 'Breakfast & Brunch', 'Coffee & Tea', 'Food Trucks', 'Desserts', 'Food']\n",
      "**************************************************\n",
      "Name:Deluca's Diner, categorias:['Restaurants', 'Breakfast & Brunch', 'Diners', 'American (Traditional)']\n",
      "**************************************************\n",
      "Name:Senyai Thai Kitchen, categorias:['Restaurants', 'Seafood', 'Thai', 'Noodles', 'Vegetarian']\n",
      "**************************************************\n",
      "Name:Eleven, categorias:['Restaurants', 'American (New)']\n",
      "**************************************************\n",
      "Name:P&G's Pamela's Diner, categorias:['Restaurants', 'Breakfast & Brunch', 'Sandwiches', 'Diners']\n",
      "**************************************************\n",
      "Name:Everyday Noodles, categorias:['Restaurants', 'Noodles', 'Vegetarian', 'Chinese']\n",
      "**************************************************\n",
      "Name:Burgh'ers Brewing, categorias:['Restaurants', 'Brewpubs', 'Event Planning & Services', 'Breweries', 'Burgers', 'Sandwiches', 'American (New)', 'Food', 'Caterers', 'Salad']\n",
      "**************************************************\n",
      "Name:Sienna Mercato, categorias:['Restaurants', 'Nightlife', 'Pizza', 'Cocktail Bars', 'Bars', 'Italian', 'American (New)']\n",
      "**************************************************\n",
      "Name:Umami, categorias:['Restaurants', 'Nightlife', 'Bars', 'Sushi Bars', 'Japanese']\n",
      "**************************************************\n",
      "Name:Coca Cafe, categorias:['Restaurants', 'Breakfast & Brunch', 'Coffee & Tea', 'Thai', 'American (New)', 'Food']\n",
      "**************************************************\n",
      "Name:Mindful Brewing Company, categorias:['Breweries', 'Food', 'BeerWineSpirits']\n",
      "**************************************************\n",
      "Name:Grist House Craft Brewery, categorias:['Breweries', 'Food']\n",
      "**************************************************\n",
      "Name:Central Diner & Grille, categorias:['Restaurants', 'Seafood', 'Diners', 'American (Traditional)', 'Greek']\n",
      "**************************************************\n",
      "Name:The Yard, categorias:['Restaurants', 'Nightlife', 'Gastropubs', 'Bars', 'American (New)']\n",
      "**************************************************\n",
      "Name:Mount Everest Sushi, categorias:['Restaurants', 'Hawaiian', 'Sushi Bars', 'Food', 'Poke', 'Asian Fusion', 'Japanese']\n",
      "**************************************************\n",
      "Name:The Vandal, categorias:['Restaurants', 'Modern European', 'Nightlife', 'Breakfast & Brunch', 'Coffee & Tea', 'Burgers', 'Bars', 'Sandwiches', 'Cafes', 'Wine Bars', 'American (New)', 'Food', 'Soul Food']\n",
      "**************************************************\n",
      "Name:B52 Cafe, categorias:['Restaurants', 'Middle Eastern', 'Breakfast & Brunch', 'Coffee & Tea', 'Cafes', 'Vegan', 'Bakeries', 'Food']\n",
      "**************************************************\n"
     ]
    }
   ],
   "source": [
    "top50 = sorted(G.nodes(), key=lambda n: G.nodes[n]['closeness'], reverse=True)[:50]\n",
    "\n",
    "print_top50(top50)"
   ]
  },
  {
   "cell_type": "markdown",
   "id": "f02a440e",
   "metadata": {},
   "source": [
    "d) Compute a centralidade de autovetor e identifique os top 50 lugares de acordo com essa métrica."
   ]
  },
  {
   "cell_type": "code",
   "execution_count": 14,
   "id": "b0a77e0b",
   "metadata": {},
   "outputs": [
    {
     "name": "stdout",
     "output_type": "stream",
     "text": [
      "Name:Gaucho Parrilla Argentina, categorias:['Restaurants', 'Latin American', 'Seafood', 'Argentine']\n",
      "**************************************************\n",
      "Name:täkō, categorias:['Restaurants', 'American (New)', 'Mexican']\n",
      "**************************************************\n",
      "Name:Bakersfield, categorias:['Restaurants', 'Nightlife', 'Seafood', 'Cocktail Bars', 'Bars', 'Tacos', 'American (New)', 'Mexican']\n",
      "**************************************************\n",
      "Name:Condado Tacos, categorias:['Restaurants', 'Nightlife', 'Cocktail Bars', 'Bars', 'Tacos', 'Mexican']\n",
      "**************************************************\n",
      "Name:DiAnoia's Eatery, categorias:['Restaurants', 'Delis', 'Sandwiches', 'Italian']\n",
      "**************************************************\n",
      "Name:Meat & Potatoes, categorias:['Restaurants', 'Gastropubs', 'Specialty Food', 'American (New)', 'Meat Shops', 'Steakhouses', 'Food']\n",
      "**************************************************\n",
      "Name:Smallman Galley, categorias:['Restaurants', 'Nightlife', 'Coffee & Tea', 'Bars', 'American (New)', 'American (Traditional)', 'Food']\n",
      "**************************************************\n",
      "Name:Noodlehead, categorias:['Restaurants', 'Thai', 'Noodles', 'Food']\n",
      "**************************************************\n",
      "Name:Piada Italian Street Food, categorias:['Restaurants', 'Wraps', 'Italian', 'Salad']\n",
      "**************************************************\n",
      "Name:Pork & Beans, categorias:['Restaurants', 'Nightlife', 'Event Planning & Services', 'Cocktail Bars', 'Bars', 'Sandwiches', 'Smokehouse', 'Beer Gardens', 'American (Traditional)', 'Beer Bar', 'Barbeque', 'Food', 'Caterers']\n",
      "**************************************************\n",
      "Name:Social House Seven, categorias:['Restaurants', 'Sushi Bars', 'Chinese', 'Asian Fusion', 'Japanese']\n",
      "**************************************************\n",
      "Name:Southern Tier Brewery Pittsburgh, categorias:['Restaurants', 'Nightlife', 'Pubs', 'Gastropubs', 'Breweries', 'Bars', 'Food']\n",
      "**************************************************\n",
      "Name:Altius, categorias:['Restaurants', 'Venues & Event Spaces', 'Nightlife', 'Event Planning & Services', 'Bars', 'American (New)', 'Desserts', 'Food']\n",
      "**************************************************\n",
      "Name:Banh Mi & Ti, categorias:['Restaurants', 'Bubble Tea', 'Cafes', 'Food', 'Vietnamese']\n",
      "**************************************************\n",
      "Name:Pirata, categorias:['Restaurants', 'Nightlife', 'Cocktail Bars', 'Bars', 'Sandwiches', 'Caribbean']\n",
      "**************************************************\n",
      "Name:Millie's Homemade Ice Cream, categorias:['Restaurants', 'Sandwiches', 'Food', 'Ice Cream & Frozen Yogurt']\n",
      "**************************************************\n",
      "Name:Butcher and the Rye, categorias:['Restaurants', 'Nightlife', 'Cocktail Bars', 'Bars', 'American (New)', 'Food', 'Butcher']\n",
      "**************************************************\n",
      "Name:Ki Ramen, categorias:['Restaurants', 'Nightlife', 'Bars', 'Noodles', 'Ramen', 'Japanese']\n",
      "**************************************************\n",
      "Name:City Works - Pittsburgh, categorias:['Restaurants', 'Nightlife', 'Pubs', 'Bars', 'Sports Bars', 'American (New)', 'American (Traditional)', 'Beer Bar']\n",
      "**************************************************\n",
      "Name:Muddy Waters Oyster Bar, categorias:['Restaurants', 'Nightlife', 'Seafood', 'Cocktail Bars', 'Bars', 'Cajun/Creole']\n",
      "**************************************************\n",
      "Name:The Milk Shake Factory, categorias:['Specialty Food', 'Desserts', 'Food', 'Ice Cream & Frozen Yogurt', 'Chocolatiers & Shops']\n",
      "**************************************************\n",
      "Name:Emporio: A Meatball Joint, categorias:['Restaurants', 'Nightlife', 'Gluten-Free', 'Bars', 'Italian', 'American (New)', 'Desserts', 'Food']\n",
      "**************************************************\n",
      "Name:Primanti Bros, categorias:['Restaurants', 'Nightlife', 'Bars', 'Sandwiches', 'Sports Bars', 'American (New)', 'Arts & Entertainment', 'Botanical Gardens']\n",
      "**************************************************\n",
      "Name:Church Brew Works, categorias:['Restaurants', 'Nightlife', 'Breweries', 'Bars', 'Desserts', 'American (Traditional)', 'Food']\n",
      "**************************************************\n",
      "Name:The Porch at Schenley, categorias:['Restaurants', 'Pizza', 'Burgers', 'Sandwiches', 'American (New)', 'Soup']\n",
      "**************************************************\n",
      "Name:Proper Brick Oven & Tap Room, categorias:['Restaurants', 'Nightlife', 'Pizza', 'Bars', 'Italian', 'Food', 'BeerWineSpirits']\n",
      "**************************************************\n",
      "Name:Ten Penny, categorias:['Restaurants', 'American (New)', 'American (Traditional)']\n",
      "**************************************************\n",
      "Name:The Abbey on Butler Street, categorias:['Restaurants', 'Nightlife', 'Coffee & Tea', 'Bars', 'Cafes', 'American (New)', 'Food']\n",
      "**************************************************\n",
      "Name:Primanti Bros, categorias:['Restaurants', 'Nightlife', 'Bars', 'Sandwiches', 'Chicken Wings', 'Sports Bars', 'American (New)']\n",
      "**************************************************\n",
      "Name:Eleven, categorias:['Restaurants', 'American (New)']\n",
      "**************************************************\n",
      "Name:The Urban Tap, categorias:['Restaurants', 'Gastropubs', 'Sandwiches', 'American (New)', 'Soup', 'American (Traditional)', 'Salad']\n",
      "**************************************************\n",
      "Name:Deluca's Diner, categorias:['Restaurants', 'Breakfast & Brunch', 'Diners', 'American (Traditional)']\n",
      "**************************************************\n",
      "Name:Redhawk Coffee, categorias:['Restaurants', 'Breakfast & Brunch', 'Coffee & Tea', 'Food Trucks', 'Desserts', 'Food']\n",
      "**************************************************\n",
      "Name:Senyai Thai Kitchen, categorias:['Restaurants', 'Seafood', 'Thai', 'Noodles', 'Vegetarian']\n",
      "**************************************************\n",
      "Name:P&G's Pamela's Diner, categorias:['Restaurants', 'Breakfast & Brunch', 'Sandwiches', 'Diners']\n",
      "**************************************************\n",
      "Name:Smoke BBQ Taqueria, categorias:['Restaurants', 'Burgers', 'Tacos', 'Barbeque', 'Mexican']\n",
      "**************************************************\n",
      "Name:Pittsburgh Poke, categorias:['Restaurants', 'Thai', 'Sushi Bars', 'Food', 'Poke', 'Japanese']\n",
      "**************************************************\n",
      "Name:Casbah, categorias:['Restaurants', 'Nightlife', 'Breakfast & Brunch', 'Cocktail Bars', 'Bars', 'Wine Bars', 'Mediterranean', 'Diners', 'Greek']\n",
      "**************************************************\n",
      "Name:Burgh'ers Brewing, categorias:['Restaurants', 'Brewpubs', 'Event Planning & Services', 'Breweries', 'Burgers', 'Sandwiches', 'American (New)', 'Food', 'Caterers', 'Salad']\n",
      "**************************************************\n",
      "Name:Sienna Mercato, categorias:['Restaurants', 'Nightlife', 'Pizza', 'Cocktail Bars', 'Bars', 'Italian', 'American (New)']\n",
      "**************************************************\n",
      "Name:Umami, categorias:['Restaurants', 'Nightlife', 'Bars', 'Sushi Bars', 'Japanese']\n",
      "**************************************************\n",
      "Name:Mount Everest Sushi, categorias:['Restaurants', 'Hawaiian', 'Sushi Bars', 'Food', 'Poke', 'Asian Fusion', 'Japanese']\n",
      "**************************************************\n",
      "Name:Grist House Craft Brewery, categorias:['Breweries', 'Food']\n",
      "**************************************************\n",
      "Name:Everyday Noodles, categorias:['Restaurants', 'Noodles', 'Vegetarian', 'Chinese']\n",
      "**************************************************\n",
      "Name:Coca Cafe, categorias:['Restaurants', 'Breakfast & Brunch', 'Coffee & Tea', 'Thai', 'American (New)', 'Food']\n",
      "**************************************************\n",
      "Name:B52 Cafe, categorias:['Restaurants', 'Middle Eastern', 'Breakfast & Brunch', 'Coffee & Tea', 'Cafes', 'Vegan', 'Bakeries', 'Food']\n",
      "**************************************************\n",
      "Name:Monterey Bay Fish Grotto, categorias:['Restaurants', 'Nightlife', 'Seafood', 'Cocktail Bars', 'Bars', 'Wine Bars']\n",
      "**************************************************\n",
      "Name:Casellula, categorias:['Restaurants', 'Nightlife', 'Bars', 'Wine Bars', 'American (New)', 'Beer Bar']\n",
      "**************************************************\n",
      "Name:Istanbul Sofra, categorias:['Restaurants', 'Turkish', 'Middle Eastern', 'Food Delivery Services', 'Mediterranean', 'Food', 'Greek']\n",
      "**************************************************\n",
      "Name:Morcilla, categorias:['Restaurants', 'Spanish']\n",
      "**************************************************\n"
     ]
    }
   ],
   "source": [
    "top50 = sorted(G.nodes(), key=lambda n: G.nodes[n]['eigenvector'], reverse=True)[:50]\n",
    "\n",
    "print_top50(top50)"
   ]
  },
  {
   "cell_type": "markdown",
   "id": "1c16de7e",
   "metadata": {},
   "source": [
    "e) Interprete os resultados obtidos nas letras a, b e c. O que pode explicar as diferenças nos ranqueamentos? Dica, interprete o que a métrica captura. Esse resultado é inesperado de alguma forma?\n",
    "\n",
    "https://www.teses.usp.br/teses/disponiveis/76/76132/tde-24042014-114142/publico/JoseRicardoFurlanRonqui_ME_corrigida.pdf\n",
    "    \n",
    "\n",
    "A centralidade de grau ou degree centrality é talvez a mais simples de todas as medidas de centralidade, esta métrica avalia a importância de um nó analisando a quantidade de nós a que ele é ligado, ou seja, quanto maior o número de nós ligados a este, maior a importância do nó para a rede e, portanto, maior o valor atribuído para este vértice pela centralidade.\n",
    "\n",
    "betweenness centrality: A ideia desta centralidade consiste em avaliar a importância de um nó na transmissão de mensagens ou eventos entre os demais, ou, de maneira equivalente, como um ele encontra-se no caminho entre os outros nós da rede se estes quiserem trocar informações. Uma grande vantagem dessa medida, como veremos adiante nesta seção é que, seu conceito pode ser utilizado para avaliar a importância tanto de vértices quanto de ligações da rede complexa.\n",
    "\n",
    "closeness centrality: O objetivo desta medida é avaliar o quanto um determinado nó está distante dos demais. Assim, os nós que possuírem uma menor distância média comparados com os demais, receberão um valor alto para a centralidade de proximidade. Quanto mais próximo, maior o valor.\n",
    "\n",
    "\n",
    "Are you able to predict missing links in a provided mobility network?\n",
    "\n",
    "In this challenge, you are provided with a mobility network where each node is a specific venue, and there is an edge connecting each venue if the same user visited both of them. If the same user reviewed two venues, an edge is created connecting them in the mobility network. Thus, the edge weight represents how many times users visited two venues. The information used to build these networks is Yelp reviews in Pittsburgh, United States. Note that this network captures not just mobility, but the preferences of (groups) users."
   ]
  },
  {
   "cell_type": "markdown",
   "id": "3ff1fdae",
   "metadata": {},
   "source": [
    "**Resposta:**\n",
    "\n",
    "Os top50 nós representam as \"venues\" da vida noturna de Pittsburgh pois as suas categorias compreendem restaurantes e \"baladas\". Neste sentido, há uma tendência em visitar lugares relacionados com comida e entretenimento. A \"venue\" \"Gaucho Parrilla Argentina\" é uma das mais solicitadas e encontra-se em primeiro lugar em todos as métricas de centralidade, portanto posso inferir que a sua localização é a mais privilegiada e por tais fatores, as outras venues estão localizadas nos seus arredores.\n",
    "\n",
    "Quanto à diferença de proximidade, observa-se que \"täkō\" encontra-se em quarto lugar nas duas primeiras métricas, porém no fator proximidade, está em segundo lugar. Embora esta venue seja a mais próxima à venue \"Gaucho Parrilla Argentina\", ela não ocupa uma posição mais alta no ranking, provavelmente devido a fatores de preferência e valores."
   ]
  },
  {
   "cell_type": "markdown",
   "id": "815f3a7c",
   "metadata": {},
   "source": [
    "____________"
   ]
  },
  {
   "cell_type": "markdown",
   "id": "bd5f69ba",
   "metadata": {},
   "source": [
    "2- Considere a seguinte rede e responda as questões abaixo."
   ]
  },
  {
   "cell_type": "markdown",
   "id": "2e43dfe5",
   "metadata": {},
   "source": [
    "a) O que acontece com as valores de PageRank dos nós conforme você aumenta o parâmetro de amortecimento (α) ?"
   ]
  },
  {
   "cell_type": "markdown",
   "id": "89ee2fdf",
   "metadata": {},
   "source": [
    "O fator de amortecimento varia entre 0 e 1 e indica a probabilidade do surfista aleatório parar de navegar nas páginas da rede. Foi introduzido para prevenir que algumas páginas tenham muita influência sobre as demais e assim que qualquer página tenha a mesma probabilidade de acesso das demais."
   ]
  },
  {
   "cell_type": "markdown",
   "id": "562277d6",
   "metadata": {},
   "source": [
    "b) O que acontece com as valores de PageRank dos nós quando o parâmetro de amortecimento (α) é 0? Explique a sua resposta.    "
   ]
  },
  {
   "cell_type": "markdown",
   "id": "5c0a8b92",
   "metadata": {},
   "source": [
    "Com valor 0, os valores de PageRank tendem a subir e também leva ao problema de ciclo fechado de páginas ligadas entre si, aonde os valores das páginas não são distribuídos para fora deste ciclo."
   ]
  },
  {
   "cell_type": "markdown",
   "id": "41853872",
   "metadata": {},
   "source": [
    "3- Explique resumidamente a ideia de Hubs e Authorities no contexto de métricas de centralidade de rede"
   ]
  },
  {
   "cell_type": "markdown",
   "id": "df0dd296",
   "metadata": {},
   "source": [
    "**Hub** classifica um vértice que dado a sua concentração de arestas e no mundo real indicam os nós com um número extremamente grande de arestas, por exemplo, páginas como google.com e facebook.com e resultam no fenômeno \"rich-gets-richer\" (grandes concentradores).\n",
    "\n",
    "**Autoridade**  indica a reputação ou importância na rede, pode ser propagada de um nó para outro e depende da importância dos nós relacionados a ele."
   ]
  },
  {
   "cell_type": "code",
   "execution_count": null,
   "id": "075b2fa7",
   "metadata": {},
   "outputs": [],
   "source": []
  }
 ],
 "metadata": {
  "kernelspec": {
   "display_name": "Python 3 (ipykernel)",
   "language": "python",
   "name": "python3"
  },
  "language_info": {
   "codemirror_mode": {
    "name": "ipython",
    "version": 3
   },
   "file_extension": ".py",
   "mimetype": "text/x-python",
   "name": "python",
   "nbconvert_exporter": "python",
   "pygments_lexer": "ipython3",
   "version": "3.9.13"
  }
 },
 "nbformat": 4,
 "nbformat_minor": 5
}
